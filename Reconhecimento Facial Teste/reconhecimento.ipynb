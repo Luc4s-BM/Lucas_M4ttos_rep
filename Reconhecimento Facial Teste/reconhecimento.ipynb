{
 "cells": [
  {
   "cell_type": "code",
   "execution_count": 1,
   "id": "75a6dda8",
   "metadata": {},
   "outputs": [],
   "source": [
    "import cv2\n",
    "import mediapipe as mp\n",
    "\n",
    "# Inicializar o OpenCV e o Mediapipe\n",
    "webcam = cv2.VideoCapture(2)\n",
    "\n",
    "# Inicializar o detector de rostos do Mediapipe\n",
    "solucao_reconhecimento_rosto = mp.solutions.face_detection\n",
    "reconhecedor_rostos = solucao_reconhecimento_rosto.FaceDetection()\n",
    "\n",
    "# Inicializar as ferramentas de desenho do Mediapipe\n",
    "desenho = mp.solutions.drawing_utils\n",
    "\n",
    "while True:\n",
    "    # Ler as informações da webcam\n",
    "    verificador, frame = webcam.read()\n",
    "    if not verificador:\n",
    "        break\n",
    "\n",
    "    # Converter a imagem para RGB (necessário para o Mediapipe)\n",
    "    frame_rgb = cv2.cvtColor(frame, cv2.COLOR_BGR2RGB)\n",
    "\n",
    "    # Reconhecer os rostos que aparecem na imagem\n",
    "    lista_rostos = reconhecedor_rostos.process(frame_rgb)\n",
    "\n",
    "    # Se encontrar rostos\n",
    "    if lista_rostos.detections:\n",
    "        for rosto in lista_rostos.detections:\n",
    "            # Desenhar os rostos detectados na imagem\n",
    "            desenho.draw_detection(frame, rosto)\n",
    "\n",
    "    # Mostrar a imagem na tela\n",
    "    cv2.imshow(\"Rostos na Webcam\", frame)\n",
    "\n",
    "    # Se apertar ESC (código 27), sai do loop\n",
    "    if cv2.waitKey(5) == 27:\n",
    "        break\n",
    "\n",
    "# Liberar a webcam e fechar as janelas\n",
    "webcam.release()\n",
    "\n"
   ]
  }
 ],
 "metadata": {
  "kernelspec": {
   "display_name": ".venv",
   "language": "python",
   "name": "python3"
  },
  "language_info": {
   "codemirror_mode": {
    "name": "ipython",
    "version": 3
   },
   "file_extension": ".py",
   "mimetype": "text/x-python",
   "name": "python",
   "nbconvert_exporter": "python",
   "pygments_lexer": "ipython3",
   "version": "3.11.9"
  }
 },
 "nbformat": 4,
 "nbformat_minor": 5
}
